{
 "cells": [
  {
   "cell_type": "code",
   "execution_count": 40,
   "metadata": {},
   "outputs": [],
   "source": [
    "import pandas as pd\n",
    "import numpy as np\n",
    "import csv"
   ]
  },
  {
   "cell_type": "code",
   "execution_count": 41,
   "metadata": {},
   "outputs": [],
   "source": [
    "#load cleaned dataframe containing trees from Seattle\n",
    "df = pd.read_pickle(\"df_trees.pkl\")"
   ]
  },
  {
   "cell_type": "code",
   "execution_count": 42,
   "metadata": {
    "scrolled": true
   },
   "outputs": [
    {
     "data": {
      "text/html": [
       "<div>\n",
       "<style scoped>\n",
       "    .dataframe tbody tr th:only-of-type {\n",
       "        vertical-align: middle;\n",
       "    }\n",
       "\n",
       "    .dataframe tbody tr th {\n",
       "        vertical-align: top;\n",
       "    }\n",
       "\n",
       "    .dataframe thead th {\n",
       "        text-align: right;\n",
       "    }\n",
       "</style>\n",
       "<table border=\"1\" class=\"dataframe\">\n",
       "  <thead>\n",
       "    <tr style=\"text-align: right;\">\n",
       "      <th></th>\n",
       "      <th>UNITID</th>\n",
       "      <th>UNITDESC</th>\n",
       "      <th>PRIMARYDISTRICTCD</th>\n",
       "      <th>BOTANICAL_NAME</th>\n",
       "      <th>SCIENTIFIC_NAME</th>\n",
       "      <th>GROWSPACE</th>\n",
       "      <th>DIAM</th>\n",
       "      <th>CONDITION_RATING</th>\n",
       "      <th>COMMON_NAME</th>\n",
       "      <th>SHAPE_LAT</th>\n",
       "      <th>SHAPE_LNG</th>\n",
       "      <th>TOTAL_RANK</th>\n",
       "      <th>TOTAL_COUNT</th>\n",
       "      <th>GENUS</th>\n",
       "      <th>PATH</th>\n",
       "    </tr>\n",
       "  </thead>\n",
       "  <tbody>\n",
       "    <tr>\n",
       "      <th>0</th>\n",
       "      <td>TRE-48779</td>\n",
       "      <td>1233 39TH AV E                                ...</td>\n",
       "      <td>DISTRICT3</td>\n",
       "      <td>HAWENG</td>\n",
       "      <td>Crataegus laevigata</td>\n",
       "      <td>8</td>\n",
       "      <td>7</td>\n",
       "      <td>5</td>\n",
       "      <td>English Midland Hawthorn</td>\n",
       "      <td>47.630875</td>\n",
       "      <td>-122.282937</td>\n",
       "      <td>4.0</td>\n",
       "      <td>7206.0</td>\n",
       "      <td>Crataegus</td>\n",
       "      <td>/Users/alexanderbell/desktop/seattle_trees/TRE...</td>\n",
       "    </tr>\n",
       "  </tbody>\n",
       "</table>\n",
       "</div>"
      ],
      "text/plain": [
       "      UNITID                                           UNITDESC  \\\n",
       "0  TRE-48779  1233 39TH AV E                                ...   \n",
       "\n",
       "  PRIMARYDISTRICTCD BOTANICAL_NAME      SCIENTIFIC_NAME  GROWSPACE  DIAM  \\\n",
       "0         DISTRICT3         HAWENG  Crataegus laevigata          8     7   \n",
       "\n",
       "   CONDITION_RATING               COMMON_NAME  SHAPE_LAT   SHAPE_LNG  \\\n",
       "0                 5  English Midland Hawthorn  47.630875 -122.282937   \n",
       "\n",
       "   TOTAL_RANK  TOTAL_COUNT      GENUS  \\\n",
       "0         4.0       7206.0  Crataegus   \n",
       "\n",
       "                                                PATH  \n",
       "0  /Users/alexanderbell/desktop/seattle_trees/TRE...  "
      ]
     },
     "execution_count": 42,
     "metadata": {},
     "output_type": "execute_result"
    }
   ],
   "source": [
    "df.head(1)"
   ]
  },
  {
   "cell_type": "code",
   "execution_count": 43,
   "metadata": {},
   "outputs": [
    {
     "name": "stdout",
     "output_type": "stream",
     "text": [
      "<class 'pandas.core.frame.DataFrame'>\n",
      "Int64Index: 13825 entries, 0 to 13999\n",
      "Data columns (total 15 columns):\n",
      "UNITID               13825 non-null object\n",
      "UNITDESC             13825 non-null object\n",
      "PRIMARYDISTRICTCD    13825 non-null object\n",
      "BOTANICAL_NAME       13825 non-null object\n",
      "SCIENTIFIC_NAME      13825 non-null object\n",
      "GROWSPACE            13825 non-null int64\n",
      "DIAM                 13825 non-null int64\n",
      "CONDITION_RATING     13825 non-null int64\n",
      "COMMON_NAME          13825 non-null object\n",
      "SHAPE_LAT            13825 non-null float64\n",
      "SHAPE_LNG            13825 non-null float64\n",
      "TOTAL_RANK           13825 non-null float64\n",
      "TOTAL_COUNT          13825 non-null float64\n",
      "GENUS                13825 non-null object\n",
      "PATH                 13825 non-null object\n",
      "dtypes: float64(4), int64(3), object(8)\n",
      "memory usage: 1.7+ MB\n"
     ]
    }
   ],
   "source": [
    "df.info()"
   ]
  },
  {
   "cell_type": "code",
   "execution_count": 23,
   "metadata": {},
   "outputs": [],
   "source": [
    "#This code draws images running along a street in Google street view\n",
    "#Need to submit lat-lon and orientation \n",
    "\n",
    "import google_streetview.api\n",
    "import json\n",
    "import urllib.request\n",
    "import urllib.parse\n",
    "import os\n",
    "import math\n",
    "\n",
    "#key is a global for use in the functions\n",
    "key = \"&key=\" + \"your api key here\"\n",
    "\n",
    "#set the path to download the images into\n",
    "DownLoc = r'your filepath here'\n",
    "\n",
    "\n",
    "def MetaParse(MetaUrl):\n",
    "    response = urllib.request.urlopen(MetaUrl)\n",
    "    jsonRaw = response.read()\n",
    "    jsonData = json.loads(jsonRaw.decode('utf-8'))\n",
    "    #return jsonData\n",
    "    if jsonData['status'] == \"OK\":\n",
    "        if 'date' in jsonData:\n",
    "            return (jsonData['date'],jsonData['pano_id']) #sometimes it does not have a date!\n",
    "        else:\n",
    "            return (None,jsonData['pano_id'])\n",
    "    else:\n",
    "        return (None,None)\n",
    "\n",
    "PrevImage = [] #Global list that has previous images sampled\n",
    "def GetStreetLL(Lat,Lon,Head,File,SaveLoc):\n",
    "    base = r\"https://maps.googleapis.com/maps/api/streetview\"\n",
    "    size = r\"?size=1200x800&fov=60&pitch=10&source=outdoor&location=\"\n",
    "    end = str(Lat) + \",\" + str(Lon) + \"&heading=\" + str(Head) + key\n",
    "    MyUrl = base + size + end\n",
    "    fi = File + \".jpg\"\n",
    "    MetaUrl = base + r\"/metadata\" + size + end\n",
    "    #print MyUrl, MetaUrl #can check out image in browser to adjust size, fov to needs\n",
    "    met_lis = list(MetaParse(MetaUrl))                           #does not grab image if no date\n",
    "    if (met_lis[1],Head) not in PrevImage and met_lis[0] is not None:   #PrevImage is global list\n",
    "        urllib.request.urlretrieve(MyUrl, os.path.join(SaveLoc,fi))\n",
    "        met_lis.append(fi)\n",
    "        PrevImage.append((met_lis[1],Head)) #append new Pano ID to list of images\n",
    "    else:\n",
    "        met_lis.append(None)\n",
    "    return met_lis\n",
    "\n",
    "\n"
   ]
  },
  {
   "cell_type": "code",
   "execution_count": 9,
   "metadata": {},
   "outputs": [],
   "source": [
    "tree_list = df[['UNITID','SHAPE_LAT','SHAPE_LNG']].apply(tuple, axis=1).tolist()"
   ]
  },
  {
   "cell_type": "code",
   "execution_count": 26,
   "metadata": {},
   "outputs": [],
   "source": [
    "#Make an example list of tuples of lat,lon's and orientation\n",
    "#Pointed toward the sidewalk precise lat/lon\n",
    "\n",
    "\n",
    "image_list = [] #to stuff the resulting meta-data for images\n",
    "\n",
    "for i in tree_list:\n",
    "    fi = i[0]\n",
    "    temp = GetStreetLL(Lat=i[1],Lon=i[2],Head=None,File=fi,SaveLoc=DownLoc)\n",
    "    if temp[2] is not None:\n",
    "        image_list.append(temp)\n",
    "\n"
   ]
  },
  {
   "cell_type": "code",
   "execution_count": 36,
   "metadata": {
    "scrolled": true
   },
   "outputs": [
    {
     "data": {
      "text/plain": [
       "Prunus            3450\n",
       "Acer              2481\n",
       "Crataegus         1065\n",
       "Malus              729\n",
       "Betula             502\n",
       "Liquidambar        472\n",
       "Quercus            440\n",
       "Tilia              413\n",
       "Cornus             341\n",
       "Pyrus              339\n",
       "Platanus           301\n",
       "Fraxinus           290\n",
       "Thuja              196\n",
       "Gleditsia          188\n",
       "Carpinus           171\n",
       "Styrax             168\n",
       "Magnolia           162\n",
       "Amelanchier        150\n",
       "Sorbus             144\n",
       "Aesculus           139\n",
       "Pseudotsuga        131\n",
       "Pinus              126\n",
       "Cercidiphyllum     123\n",
       "Zelkova            117\n",
       "Cercis             100\n",
       "Ulmus               81\n",
       "Fagus               79\n",
       "Chamaecyparis       75\n",
       "Ginkgo              63\n",
       "Ilex                59\n",
       "                  ... \n",
       "Nyssa               10\n",
       "Juniperus            7\n",
       "Sequoia              4\n",
       "Ailanthus            4\n",
       "Phellodendron        4\n",
       "Ficus                4\n",
       "Davidia              3\n",
       "Metasequoia          3\n",
       "Sophora              3\n",
       "Elaeagnus            3\n",
       "Cotinus              3\n",
       "Trachycarpus         3\n",
       "Eucalyptus           3\n",
       "Lagerstroemia        2\n",
       "Morus                2\n",
       "Laurus               2\n",
       "Rhododendron         2\n",
       "Umbellularia         2\n",
       "Oxydendrum           2\n",
       "Nothofagus           2\n",
       "Clerodendrum         2\n",
       "Araucaria            1\n",
       "Ligustrum            1\n",
       "Sequoiadendron       1\n",
       "Mespilus             1\n",
       "Hibiscus             1\n",
       "Pseudocydonia        1\n",
       "Cryptomeria          1\n",
       "Larix                1\n",
       "Olea                 1\n",
       "Name: GENUS, Length: 84, dtype: int64"
      ]
     },
     "execution_count": 36,
     "metadata": {},
     "output_type": "execute_result"
    }
   ],
   "source": [
    "df['GENUS'].value_counts()"
   ]
  },
  {
   "cell_type": "code",
   "execution_count": 37,
   "metadata": {
    "scrolled": true
   },
   "outputs": [
    {
     "data": {
      "text/plain": [
       "English Midland Hawthorn          698\n",
       "Blireiana Purpleleaf Plum         551\n",
       "Cherry (Flowering) Plum, Myrob    529\n",
       "Kwanzan Flowering Cherry          529\n",
       "Red Maple                         515\n",
       "Norway Maple                      509\n",
       "Sweetgum                          471\n",
       "Thundercloud Purpleleaf Plum      439\n",
       "Apple/Crabapple                   382\n",
       "(European) White Birch            356\n",
       "Double Chinese Cherry             285\n",
       "London Plane (Tree)               283\n",
       "(Smooth) Japanese Maple           241\n",
       "Red Oak                           216\n",
       "Littleleaf Linden                 192\n",
       "Callery Pear                      169\n",
       "Common Hawthorn                   163\n",
       "Autumn Flowering Cherry           158\n",
       "Western Red Cedar                 154\n",
       "Honey Locust                      145\n",
       "Japanese Snowbell Tree            142\n",
       "Red Sunset Red Maple              138\n",
       "Common (Euro) Mountain Ash        131\n",
       "Douglas Fir                       131\n",
       "Orchard (Common) Apple            125\n",
       "Horse Chestnut                    124\n",
       "Kousa Dogwood                     122\n",
       "Katsura Tree                      114\n",
       "Pacific Sunset Maple              112\n",
       "European Hornbeam                 111\n",
       "                                 ... \n",
       "Beni Fuji Dogwood                   1\n",
       "Worplesdon Sweetgum                 1\n",
       "White Poplar                        1\n",
       "Newton Sentry Sugar Maple           1\n",
       "Giant Sequoia                       1\n",
       "Willowleaf Pear                     1\n",
       "European White Elm                  1\n",
       "European Larch                      1\n",
       "Hibiscus                            1\n",
       "Sitka Spruce                        1\n",
       "Holly                               1\n",
       "Willow                              1\n",
       "Chimaeric Goldenchain               1\n",
       "Purple Crabapple                    1\n",
       "Eastern Redcedar                    1\n",
       "American Chestnut                   1\n",
       "Spire Cherry                        1\n",
       "Beaked Stewartia                    1\n",
       "Pissard Purpleleaf Plum             1\n",
       "Wych Elm                            1\n",
       "European fruiting olive             1\n",
       "Caucasian Ash                       1\n",
       "Tatarian Maple                      1\n",
       "Double Horse Chestnut               1\n",
       "Almond Tree                         1\n",
       "Black Hawthorn                      1\n",
       "Japanese Cedar                      1\n",
       "Bristlecone Pine                    1\n",
       "Goat (French Pink Pussy) Willo      1\n",
       "Chokecherry                         1\n",
       "Name: COMMON_NAME, Length: 401, dtype: int64"
      ]
     },
     "execution_count": 37,
     "metadata": {},
     "output_type": "execute_result"
    }
   ],
   "source": [
    "df['COMMON_NAME'].value_counts()"
   ]
  }
 ],
 "metadata": {
  "kernelspec": {
   "display_name": "Python 3",
   "language": "python",
   "name": "python3"
  },
  "language_info": {
   "codemirror_mode": {
    "name": "ipython",
    "version": 3
   },
   "file_extension": ".py",
   "mimetype": "text/x-python",
   "name": "python",
   "nbconvert_exporter": "python",
   "pygments_lexer": "ipython3",
   "version": "3.6.3"
  }
 },
 "nbformat": 4,
 "nbformat_minor": 2
}
